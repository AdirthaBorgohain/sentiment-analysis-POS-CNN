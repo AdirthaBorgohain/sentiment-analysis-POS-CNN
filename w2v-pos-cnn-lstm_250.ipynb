{
 "cells": [
  {
   "cell_type": "code",
   "execution_count": 4,
   "metadata": {
    "colab": {
     "base_uri": "https://localhost:8080/"
    },
    "executionInfo": {
     "elapsed": 5603,
     "status": "ok",
     "timestamp": 1650812429568,
     "user": {
      "displayName": "Adirtha Borgohain",
      "userId": "15863713878084439858"
     },
     "user_tz": -330
    },
    "id": "qrNEj3fFdQ2B",
    "outputId": "57e249b4-067d-4b3e-b2a2-26604c5c86b0"
   },
   "outputs": [
    {
     "name": "stdout",
     "output_type": "stream",
     "text": [
      "[nltk_data] Downloading package punkt to /root/nltk_data...\n",
      "[nltk_data]   Unzipping tokenizers/punkt.zip.\n",
      "[nltk_data] Downloading package averaged_perceptron_tagger to\n",
      "[nltk_data]     /root/nltk_data...\n",
      "[nltk_data]   Unzipping taggers/averaged_perceptron_tagger.zip.\n"
     ]
    },
    {
     "data": {
      "text/plain": [
       "True"
      ]
     },
     "execution_count": 4,
     "metadata": {},
     "output_type": "execute_result"
    }
   ],
   "source": [
    "import gensim.models.keyedvectors as word2vec #need to use due to depreceated model\n",
    "\n",
    "import tensorflow as tf\n",
    "from tensorflow.keras.models import Sequential\n",
    "from tensorflow.keras.preprocessing.sequence import pad_sequences\n",
    "from tensorflow.keras.preprocessing.text import Tokenizer\n",
    "from tensorflow.keras.models import Model\n",
    "from tensorflow.keras.layers import Concatenate, Reshape, dot, Input, LSTM, Conv1D, \\\n",
    "Dense, Flatten, MaxPooling1D, Dropout, Embedding, BatchNormalization\n",
    "\n",
    "import numpy as np\n",
    "import pandas as pd\n",
    "import matplotlib.pyplot as plt\n",
    "\n",
    "from sklearn.model_selection import train_test_split\n",
    "from sklearn.metrics import confusion_matrix, roc_curve,  roc_auc_score, classification_report\n",
    "\n",
    "import logging\n",
    "\n",
    "from tqdm import tqdm\n",
    "\n",
    "import nltk\n",
    "nltk.download('punkt')\n",
    "nltk.download('averaged_perceptron_tagger')"
   ]
  },
  {
   "cell_type": "code",
   "execution_count": 5,
   "metadata": {
    "executionInfo": {
     "elapsed": 1061,
     "status": "ok",
     "timestamp": 1650812430623,
     "user": {
      "displayName": "Adirtha Borgohain",
      "userId": "15863713878084439858"
     },
     "user_tz": -330
    },
    "id": "7LyNe1nLdaLn"
   },
   "outputs": [],
   "source": [
    "booksData = pd.read_csv('bookv4-clean(0-1).csv')\n",
    "\n",
    "books = booksData['text']\n",
    "labels = booksData['polarity']"
   ]
  },
  {
   "cell_type": "code",
   "execution_count": 6,
   "metadata": {
    "colab": {
     "base_uri": "https://localhost:8080/",
     "height": 314
    },
    "executionInfo": {
     "elapsed": 738,
     "status": "ok",
     "timestamp": 1650812431357,
     "user": {
      "displayName": "Adirtha Borgohain",
      "userId": "15863713878084439858"
     },
     "user_tz": -330
    },
    "id": "ST8kCQH-dmsK",
    "outputId": "a0631e61-7586-40dc-fa61-94c1b6777905"
   },
   "outputs": [
    {
     "name": "stdout",
     "output_type": "stream",
     "text": [
      "1    37500\n",
      "0    37500\n",
      "Name: polarity, dtype: int64\n"
     ]
    },
    {
     "data": {
      "image/png": "[encoded data removed]",
      "text/plain": [
       "<Figure size 432x288 with 1 Axes>"
      ]
     },
     "metadata": {
      "needs_background": "light"
     },
     "output_type": "display_data"
    }
   ],
   "source": [
    "labels_count = labels.value_counts()\n",
    "labels_count.plot(kind=\"bar\")\n",
    "print(labels.value_counts())"
   ]
  },
  {
   "cell_type": "code",
   "execution_count": 7,
   "metadata": {
    "executionInfo": {
     "elapsed": 18,
     "status": "ok",
     "timestamp": 1650812431358,
     "user": {
      "displayName": "Adirtha Borgohain",
      "userId": "15863713878084439858"
     },
     "user_tz": -330
    },
    "id": "kfXYlSNrdoxm"
   },
   "outputs": [],
   "source": [
    "train_samples, test_samples, train_labels, test_labels = train_test_split(books, labels, test_size=0.1, random_state=24)\n",
    "\n",
    "train_samples, val_samples, train_labels, val_labels = train_test_split(train_samples, train_labels, test_size=0.15, random_state=24) # 0.15 x 0.9 = 0.135"
   ]
  },
  {
   "cell_type": "code",
   "execution_count": 27,
   "metadata": {
    "executionInfo": {
     "elapsed": 403,
     "status": "ok",
     "timestamp": 1650813167611,
     "user": {
      "displayName": "Adirtha Borgohain",
      "userId": "15863713878084439858"
     },
     "user_tz": -330
    },
    "id": "HrGapT-TjjLt"
   },
   "outputs": [],
   "source": [
    "MAX_LEN = 250"
   ]
  },
  {
   "cell_type": "code",
   "execution_count": 28,
   "metadata": {
    "executionInfo": {
     "elapsed": 2983,
     "status": "ok",
     "timestamp": 1650813171318,
     "user": {
      "displayName": "Adirtha Borgohain",
      "userId": "15863713878084439858"
     },
     "user_tz": -330
    },
    "id": "Ov7QPTRhdpg3"
   },
   "outputs": [],
   "source": [
    "from tensorflow.keras.layers import TextVectorization\n",
    "\n",
    "vectorizer = TextVectorization(max_tokens=20000, output_sequence_length=MAX_LEN)\n",
    "text_ds = tf.data.Dataset.from_tensor_slices(train_samples).batch(128)\n",
    "vectorizer.adapt(text_ds)"
   ]
  },
  {
   "cell_type": "code",
   "execution_count": 29,
   "metadata": {
    "colab": {
     "base_uri": "https://localhost:8080/"
    },
    "executionInfo": {
     "elapsed": 2,
     "status": "ok",
     "timestamp": 1650813172942,
     "user": {
      "displayName": "Adirtha Borgohain",
      "userId": "15863713878084439858"
     },
     "user_tz": -330
    },
    "id": "jJtdHvH1dq2H",
    "outputId": "1e490088-c050-460b-e7d6-9681be5a3718"
   },
   "outputs": [
    {
     "data": {
      "text/plain": [
       "['', '[UNK]', 'the', 'be', 'and']"
      ]
     },
     "execution_count": 29,
     "metadata": {},
     "output_type": "execute_result"
    }
   ],
   "source": [
    "\"\"\"\n",
    "We can retrieve the computed vocabulary used via `vectorizer.get_vocabulary()`. Let's\n",
    "print the top 5 words:\n",
    "\"\"\"\n",
    "vectorizer.get_vocabulary()[:5]"
   ]
  },
  {
   "cell_type": "code",
   "execution_count": 30,
   "metadata": {
    "colab": {
     "base_uri": "https://localhost:8080/"
    },
    "executionInfo": {
     "elapsed": 5,
     "status": "ok",
     "timestamp": 1650813174468,
     "user": {
      "displayName": "Adirtha Borgohain",
      "userId": "15863713878084439858"
     },
     "user_tz": -330
    },
    "id": "d9rpNzvLdsSa",
    "outputId": "343ecb7d-ea55-4055-d583-e34fd32ff4c7"
   },
   "outputs": [
    {
     "data": {
      "text/plain": [
       "array([  5, 947,  12,  68,  20,   2,   8,   5,  16])"
      ]
     },
     "execution_count": 30,
     "metadata": {},
     "output_type": "execute_result"
    }
   ],
   "source": [
    "\"\"\"\n",
    "Let's vectorize a test sentence:\n",
    "\"\"\"\n",
    "\n",
    "output = vectorizer([[\"i fell in love with the book i read\"]])\n",
    "output.numpy()[0, :9]"
   ]
  },
  {
   "cell_type": "code",
   "execution_count": 31,
   "metadata": {
    "colab": {
     "base_uri": "https://localhost:8080/"
    },
    "executionInfo": {
     "elapsed": 6,
     "status": "ok",
     "timestamp": 1650813176437,
     "user": {
      "displayName": "Adirtha Borgohain",
      "userId": "15863713878084439858"
     },
     "user_tz": -330
    },
    "id": "urzcr7BCdtd-",
    "outputId": "10239300-7b89-42fb-f2d2-4c64e7ff071b"
   },
   "outputs": [
    {
     "data": {
      "text/plain": [
       "{'': 0,\n",
       " '[UNK]': 1,\n",
       " 'the': 2,\n",
       " 'be': 3,\n",
       " 'and': 4,\n",
       " 'i': 5,\n",
       " 'to': 6,\n",
       " 'a': 7,\n",
       " 'book': 8,\n",
       " 'of': 9,\n",
       " 'this': 10,\n",
       " 'it': 11,\n",
       " 'in': 12,\n",
       " 'have': 13,\n",
       " 'that': 14,\n",
       " 'for': 15,\n",
       " 'read': 16,\n",
       " 'you': 17,\n",
       " 'not': 18,\n",
       " 'but': 19,\n",
       " 'with': 20,\n",
       " 'as': 21,\n",
       " 'on': 22,\n",
       " 'my': 23,\n",
       " 'one': 24,\n",
       " 'do': 25,\n",
       " 'about': 26,\n",
       " 'all': 27,\n",
       " 'like': 28,\n",
       " 'if': 29,\n",
       " 'so': 30,\n",
       " 'good': 31,\n",
       " 'very': 32,\n",
       " 'an': 33,\n",
       " 'get': 34,\n",
       " 'at': 35,\n",
       " 'his': 36,\n",
       " 'story': 37,\n",
       " 'by': 38,\n",
       " 'or': 39,\n",
       " 'me': 40,\n",
       " 'he': 41,\n",
       " 'from': 42,\n",
       " 'would': 43,\n",
       " 'its': 44,\n",
       " 'just': 45,\n",
       " 'what': 46,\n",
       " 'time': 47,\n",
       " 'more': 48,\n",
       " 'write': 49,\n",
       " 'who': 50,\n",
       " 'make': 51,\n",
       " 'find': 52,\n",
       " 'there': 53,\n",
       " 'her': 54,\n",
       " 'think': 55,\n",
       " 'out': 56,\n",
       " 'will': 57,\n",
       " 'great': 58,\n",
       " 'character': 59,\n",
       " 'author': 60,\n",
       " 'some': 61,\n",
       " 'can': 62,\n",
       " 'they': 63,\n",
       " 'really': 64,\n",
       " 'go': 65,\n",
       " 'how': 66,\n",
       " 'when': 67,\n",
       " 'love': 68,\n",
       " 'much': 69,\n",
       " 'well': 70,\n",
       " 'up': 71,\n",
       " 'no': 72,\n",
       " 'she': 73,\n",
       " 'first': 74,\n",
       " 'only': 75,\n",
       " 'other': 76,\n",
       " 'your': 77,\n",
       " 'know': 78,\n",
       " 'give': 79,\n",
       " 'dont': 80,\n",
       " 'because': 81,\n",
       " 'want': 82,\n",
       " 'many': 83,\n",
       " 'even': 84,\n",
       " 'page': 85,\n",
       " 'say': 86,\n",
       " 'than': 87,\n",
       " 'buy': 88,\n",
       " 'life': 89,\n",
       " 'way': 90,\n",
       " 'use': 91,\n",
       " 'into': 92,\n",
       " 'take': 93,\n",
       " 'could': 94,\n",
       " 'any': 95,\n",
       " 'people': 96,\n",
       " 'which': 97,\n",
       " 'end': 98,\n",
       " 'most': 99,\n",
       " 'work': 100,\n",
       " 'recommend': 101,\n",
       " 'look': 102,\n",
       " 'too': 103,\n",
       " 'year': 104,\n",
       " 'we': 105,\n",
       " 'after': 106,\n",
       " 'them': 107,\n",
       " 'also': 108,\n",
       " 'their': 109,\n",
       " 'novel': 110,\n",
       " 'thing': 111,\n",
       " 'then': 112,\n",
       " 'through': 113,\n",
       " 'enjoy': 114,\n",
       " 'little': 115,\n",
       " 'series': 116,\n",
       " 'see': 117,\n",
       " 'never': 118,\n",
       " 'should': 119,\n",
       " 'come': 120,\n",
       " 'im': 121,\n",
       " 'reader': 122,\n",
       " 'seem': 123,\n",
       " 'new': 124,\n",
       " 'best': 125,\n",
       " 'try': 126,\n",
       " 'bad': 127,\n",
       " 'ever': 128,\n",
       " 'didnt': 129,\n",
       " 'put': 130,\n",
       " 'these': 131,\n",
       " 'lot': 132,\n",
       " 'start': 133,\n",
       " 'plot': 134,\n",
       " 'over': 135,\n",
       " 'need': 136,\n",
       " 'review': 137,\n",
       " 'ive': 138,\n",
       " 'down': 139,\n",
       " 'keep': 140,\n",
       " 'anyone': 141,\n",
       " 'old': 142,\n",
       " 'every': 143,\n",
       " 'now': 144,\n",
       " 'those': 145,\n",
       " 'two': 146,\n",
       " 'tell': 147,\n",
       " 'still': 148,\n",
       " 'world': 149,\n",
       " 'such': 150,\n",
       " 'while': 151,\n",
       " 'something': 152,\n",
       " 'feel': 153,\n",
       " 'information': 154,\n",
       " 'back': 155,\n",
       " 'why': 156,\n",
       " 'understand': 157,\n",
       " 'part': 158,\n",
       " 'another': 159,\n",
       " 'few': 160,\n",
       " 'finish': 161,\n",
       " 'before': 162,\n",
       " 'learn': 163,\n",
       " 'help': 164,\n",
       " 'money': 165,\n",
       " 'chapter': 166,\n",
       " 'long': 167,\n",
       " 'own': 168,\n",
       " 'interesting': 169,\n",
       " 'child': 170,\n",
       " 'nothing': 171,\n",
       " 'however': 172,\n",
       " 'real': 173,\n",
       " 'our': 174,\n",
       " 'cant': 175,\n",
       " 'same': 176,\n",
       " 'must': 177,\n",
       " 'point': 178,\n",
       " 'him': 179,\n",
       " 'us': 180,\n",
       " 'again': 181,\n",
       " 'hard': 182,\n",
       " 'word': 183,\n",
       " 'day': 184,\n",
       " 'cover': 185,\n",
       " 'where': 186,\n",
       " 'history': 187,\n",
       " 'happen': 188,\n",
       " 'reading': 189,\n",
       " 'easy': 190,\n",
       " 'woman': 191,\n",
       " 'though': 192,\n",
       " 'may': 193,\n",
       " 'waste': 194,\n",
       " 'star': 195,\n",
       " 'idea': 196,\n",
       " 'each': 197,\n",
       " 'last': 198,\n",
       " 'off': 199,\n",
       " 'believe': 200,\n",
       " 'leave': 201,\n",
       " 'fact': 202,\n",
       " 'doesnt': 203,\n",
       " 'far': 204,\n",
       " 'different': 205,\n",
       " 'without': 206,\n",
       " 'interest': 207,\n",
       " 'worth': 208,\n",
       " 'next': 209,\n",
       " 'friend': 210,\n",
       " 'enough': 211,\n",
       " 'since': 212,\n",
       " 'detail': 213,\n",
       " 'man': 214,\n",
       " 'school': 215,\n",
       " 'actually': 216,\n",
       " 'fan': 217,\n",
       " 'become': 218,\n",
       " 'excellent': 219,\n",
       " 'wonderful': 220,\n",
       " 'place': 221,\n",
       " 'here': 222,\n",
       " 'writing': 223,\n",
       " 'anything': 224,\n",
       " 'myself': 225,\n",
       " 'highly': 226,\n",
       " 'right': 227,\n",
       " 'live': 228,\n",
       " 'style': 229,\n",
       " 'quite': 230,\n",
       " 'family': 231,\n",
       " 'expect': 232,\n",
       " 'couldnt': 233,\n",
       " 'almost': 234,\n",
       " 'both': 235,\n",
       " 'writer': 236,\n",
       " 'boring': 237,\n",
       " 'someone': 238,\n",
       " 'name': 239,\n",
       " 'always': 240,\n",
       " 'young': 241,\n",
       " 'might': 242,\n",
       " 'big': 243,\n",
       " 'bit': 244,\n",
       " 'experience': 245,\n",
       " 'problem': 246,\n",
       " 'turn': 247,\n",
       " 'pick': 248,\n",
       " 'example': 249,\n",
       " 'purchase': 250,\n",
       " 'sure': 251,\n",
       " 'short': 252,\n",
       " 'main': 253,\n",
       " 'yet': 254,\n",
       " 'whole': 255,\n",
       " 'wait': 256,\n",
       " 'others': 257,\n",
       " 'true': 258,\n",
       " 'person': 259,\n",
       " 'felt': 260,\n",
       " 'favorite': 261,\n",
       " 'everything': 262,\n",
       " 'high': 263,\n",
       " 'copy': 264,\n",
       " 'around': 265,\n",
       " 'change': 266,\n",
       " 'hope': 267,\n",
       " 'instead': 268,\n",
       " 'follow': 269,\n",
       " 'although': 270,\n",
       " 'picture': 271,\n",
       " 'away': 272,\n",
       " 'rather': 273,\n",
       " 'mind': 274,\n",
       " 'kid': 275,\n",
       " 'mean': 276,\n",
       " 'mr': 277,\n",
       " 'wish': 278,\n",
       " 'probably': 279,\n",
       " 'youre': 280,\n",
       " 'reason': 281,\n",
       " 'class': 282,\n",
       " 'classic': 283,\n",
       " 'least': 284,\n",
       " 'text': 285,\n",
       " 'everyone': 286,\n",
       " 'several': 287,\n",
       " 'fun': 288,\n",
       " 'let': 289,\n",
       " 'line': 290,\n",
       " 'talk': 291,\n",
       " 'subject': 292,\n",
       " 'thats': 293,\n",
       " 'bore': 294,\n",
       " 'maybe': 295,\n",
       " 'set': 296,\n",
       " 'full': 297,\n",
       " 'job': 298,\n",
       " 'care': 299,\n",
       " 'description': 300,\n",
       " 'wasnt': 301,\n",
       " 'interested': 302,\n",
       " 'once': 303,\n",
       " 'isnt': 304,\n",
       " 'between': 305,\n",
       " 'war': 306,\n",
       " 'able': 307,\n",
       " 'kind': 308,\n",
       " 'include': 309,\n",
       " 'until': 310,\n",
       " 'fiction': 311,\n",
       " 'lose': 312,\n",
       " 'already': 313,\n",
       " 'begin': 314,\n",
       " 'provide': 315,\n",
       " 'especially': 316,\n",
       " 'reference': 317,\n",
       " 'pretty': 318,\n",
       " 'spend': 319,\n",
       " 'second': 320,\n",
       " 'edition': 321,\n",
       " 'title': 322,\n",
       " 'explain': 323,\n",
       " 'version': 324,\n",
       " 'age': 325,\n",
       " 'question': 326,\n",
       " 'describe': 327,\n",
       " '2': 328,\n",
       " 'simply': 329,\n",
       " 'present': 330,\n",
       " 'action': 331,\n",
       " 'call': 332,\n",
       " 'lack': 333,\n",
       " 'sense': 334,\n",
       " 'miss': 335,\n",
       " 'less': 336,\n",
       " 'three': 337,\n",
       " 'language': 338,\n",
       " 'girl': 339,\n",
       " 'move': 340,\n",
       " 'english': 341,\n",
       " 'bring': 342,\n",
       " 'truly': 343,\n",
       " 'ago': 344,\n",
       " 'else': 345,\n",
       " 'definitely': 346,\n",
       " 'student': 347,\n",
       " 'half': 348,\n",
       " 'funny': 349,\n",
       " 'small': 350,\n",
       " 'disappointed': 351,\n",
       " 'difficult': 352,\n",
       " 'study': 353,\n",
       " 'save': 354,\n",
       " 'library': 355,\n",
       " 'view': 356,\n",
       " 'teach': 357,\n",
       " 'course': 358,\n",
       " 'simple': 359,\n",
       " 'god': 360,\n",
       " 'together': 361,\n",
       " 'wonder': 362,\n",
       " 'hear': 363,\n",
       " 'along': 364,\n",
       " 'yourself': 365,\n",
       " 'wrong': 366,\n",
       " 'early': 367,\n",
       " 'completely': 368,\n",
       " 'wont': 369,\n",
       " 'american': 370,\n",
       " 'complete': 371,\n",
       " 'id': 372,\n",
       " '5': 373,\n",
       " 'boy': 374,\n",
       " 'past': 375,\n",
       " 'guide': 376,\n",
       " 'mystery': 377,\n",
       " 'list': 378,\n",
       " 'useful': 379,\n",
       " 'original': 380,\n",
       " 'case': 381,\n",
       " 'nice': 382,\n",
       " 'opinion': 383,\n",
       " 'research': 384,\n",
       " 'youll': 385,\n",
       " 'publish': 386,\n",
       " 'consider': 387,\n",
       " 'basic': 388,\n",
       " 'human': 389,\n",
       " 'stop': 390,\n",
       " 'important': 391,\n",
       " 'quality': 392,\n",
       " 'type': 393,\n",
       " 'create': 394,\n",
       " 'deal': 395,\n",
       " 'entire': 396,\n",
       " 'base': 397,\n",
       " 'hand': 398,\n",
       " 'add': 399,\n",
       " 'poor': 400,\n",
       " '3': 401,\n",
       " 'home': 402,\n",
       " 'often': 403,\n",
       " 'etc': 404,\n",
       " 'please': 405,\n",
       " 'during': 406,\n",
       " 'adventure': 407,\n",
       " 'guy': 408,\n",
       " 'force': 409,\n",
       " 'absolutely': 410,\n",
       " 'romance': 411,\n",
       " 'rest': 412,\n",
       " 'disappoint': 413,\n",
       " 'realize': 414,\n",
       " 'contain': 415,\n",
       " 'reviewer': 416,\n",
       " 'tale': 417,\n",
       " 'extremely': 418,\n",
       " 'run': 419,\n",
       " 'topic': 420,\n",
       " 'helpful': 421,\n",
       " 'insight': 422,\n",
       " 'mention': 423,\n",
       " 'historical': 424,\n",
       " 'event': 425,\n",
       " 'print': 426,\n",
       " 'agree': 427,\n",
       " 'guess': 428,\n",
       " 'suggest': 429,\n",
       " 'material': 430,\n",
       " 'decide': 431,\n",
       " 'thought': 432,\n",
       " 'mother': 433,\n",
       " 'matter': 434,\n",
       " 'fall': 435,\n",
       " 'son': 436,\n",
       " 'clear': 437,\n",
       " 'ms': 438,\n",
       " 'perhaps': 439,\n",
       " 'slow': 440,\n",
       " 'today': 441,\n",
       " 'either': 442,\n",
       " 'beautiful': 443,\n",
       " 'section': 444,\n",
       " 'literature': 445,\n",
       " 'remember': 446,\n",
       " 'laugh': 447,\n",
       " 'fantasy': 448,\n",
       " 'overall': 449,\n",
       " 'perfect': 450,\n",
       " 'hold': 451,\n",
       " 'forward': 452,\n",
       " 'content': 453,\n",
       " 'stuff': 454,\n",
       " 'ask': 455,\n",
       " 'ill': 456,\n",
       " 'price': 457,\n",
       " 'heart': 458,\n",
       " 'concept': 459,\n",
       " 'finally': 460,\n",
       " 'couple': 461,\n",
       " 'personal': 462,\n",
       " 'gift': 463,\n",
       " 'piece': 464,\n",
       " 'level': 465,\n",
       " 'certainly': 466,\n",
       " 'daughter': 467,\n",
       " 'parent': 468,\n",
       " 'continue': 469,\n",
       " 'scene': 470,\n",
       " 'art': 471,\n",
       " 'meet': 472,\n",
       " 'throughout': 473,\n",
       " 'sound': 474,\n",
       " 'play': 475,\n",
       " 'bible': 476,\n",
       " 'figure': 477,\n",
       " 'issue': 478,\n",
       " 'pay': 479,\n",
       " 'grow': 480,\n",
       " 'attempt': 481,\n",
       " 'offer': 482,\n",
       " 'wouldnt': 483,\n",
       " 'advice': 484,\n",
       " 'month': 485,\n",
       " 'state': 486,\n",
       " 'answer': 487,\n",
       " 'men': 488,\n",
       " 'unfortunately': 489,\n",
       " '1': 490,\n",
       " 'sad': 491,\n",
       " 'previous': 492,\n",
       " 'number': 493,\n",
       " 'night': 494,\n",
       " 'eye': 495,\n",
       " 'sorry': 496,\n",
       " 'fill': 497,\n",
       " 'poorly': 498,\n",
       " 'return': 499,\n",
       " '4': 500,\n",
       " 'feeling': 501,\n",
       " 'hop': 502,\n",
       " 'receive': 503,\n",
       " 'suppose': 504,\n",
       " 'light': 505,\n",
       " 'open': 506,\n",
       " 'amazon': 507,\n",
       " 'science': 508,\n",
       " 'lead': 509,\n",
       " 'teacher': 510,\n",
       " 'development': 511,\n",
       " 'itself': 512,\n",
       " 'amazing': 513,\n",
       " 'relate': 514,\n",
       " 'himself': 515,\n",
       " 'attention': 516,\n",
       " 'collection': 517,\n",
       " 'happy': 518,\n",
       " '10': 519,\n",
       " 'film': 520,\n",
       " 'adult': 521,\n",
       " 'enjoyable': 522,\n",
       " 'totally': 523,\n",
       " 'check': 524,\n",
       " 'sex': 525,\n",
       " 'side': 526,\n",
       " 'king': 527,\n",
       " 'stay': 528,\n",
       " 'surprise': 529,\n",
       " 'glad': 530,\n",
       " 'error': 531,\n",
       " 'note': 532,\n",
       " 'truth': 533,\n",
       " 'hour': 534,\n",
       " 'develop': 535,\n",
       " 'sometimes': 536,\n",
       " 'late': 537,\n",
       " 'humor': 538,\n",
       " 'knowledge': 539,\n",
       " 'skip': 540,\n",
       " 'kill': 541,\n",
       " 'house': 542,\n",
       " 'father': 543,\n",
       " 'die': 544,\n",
       " 'close': 545,\n",
       " 'death': 546,\n",
       " 'modern': 547,\n",
       " 'general': 548,\n",
       " 'focus': 549,\n",
       " 'five': 550,\n",
       " 'beginning': 551,\n",
       " 'baby': 552,\n",
       " 'under': 553,\n",
       " 'future': 554,\n",
       " 'theres': 555,\n",
       " 'pass': 556,\n",
       " 'head': 557,\n",
       " 'recipe': 558,\n",
       " 'against': 559,\n",
       " 'throw': 560,\n",
       " 'black': 561,\n",
       " 'yes': 562,\n",
       " 'usually': 563,\n",
       " 'plan': 564,\n",
       " 'free': 565,\n",
       " 'disappointment': 566,\n",
       " 'later': 567,\n",
       " 'draw': 568,\n",
       " 'choose': 569,\n",
       " 'large': 570,\n",
       " 'week': 571,\n",
       " 'society': 572,\n",
       " 'paper': 573,\n",
       " 'fine': 574,\n",
       " 'value': 575,\n",
       " 'strong': 576,\n",
       " 'depth': 577,\n",
       " 'easily': 578,\n",
       " 'illustration': 579,\n",
       " 'college': 580,\n",
       " 'business': 581,\n",
       " 'middle': 582,\n",
       " 'hero': 583,\n",
       " 'john': 584,\n",
       " 'deep': 585,\n",
       " 'appear': 586,\n",
       " 'struggle': 587,\n",
       " 'white': 588,\n",
       " 'century': 589,\n",
       " 'four': 590,\n",
       " 'clearly': 591,\n",
       " 'group': 592,\n",
       " 'face': 593,\n",
       " 'test': 594,\n",
       " 'havent': 595,\n",
       " 'ok': 596,\n",
       " 'grade': 597,\n",
       " 'publisher': 598,\n",
       " 'stand': 599,\n",
       " 'confuse': 600,\n",
       " 'culture': 601,\n",
       " 'terrible': 602,\n",
       " 'fail': 603,\n",
       " 'speak': 604,\n",
       " 'hate': 605,\n",
       " 'listen': 606,\n",
       " 'major': 607,\n",
       " 'effort': 608,\n",
       " 'twist': 609,\n",
       " 'design': 610,\n",
       " 'sort': 611,\n",
       " 'across': 612,\n",
       " 'husband': 613,\n",
       " 'break': 614,\n",
       " 'christian': 615,\n",
       " 'situation': 616,\n",
       " 'within': 617,\n",
       " 'account': 618,\n",
       " 'unless': 619,\n",
       " 'reread': 620,\n",
       " 'power': 621,\n",
       " 'sell': 622,\n",
       " 'serious': 623,\n",
       " 'horrible': 624,\n",
       " 'country': 625,\n",
       " 'sentence': 626,\n",
       " 'wife': 627,\n",
       " 'introduction': 628,\n",
       " 'third': 629,\n",
       " 'search': 630,\n",
       " 'quick': 631,\n",
       " 'dog': 632,\n",
       " 'bother': 633,\n",
       " 'perspective': 634,\n",
       " 'harry': 635,\n",
       " 'date': 636,\n",
       " 'travel': 637,\n",
       " 'involve': 638,\n",
       " 'fast': 639,\n",
       " 'dull': 640,\n",
       " 'single': 641,\n",
       " 'practice': 642,\n",
       " 'forget': 643,\n",
       " 'product': 644,\n",
       " 'allow': 645,\n",
       " 'dark': 646,\n",
       " 'stick': 647,\n",
       " 'top': 648,\n",
       " 'share': 649,\n",
       " 'form': 650,\n",
       " 'quickly': 651,\n",
       " 'jordan': 652,\n",
       " 'touch': 653,\n",
       " 'program': 654,\n",
       " 'message': 655,\n",
       " 'color': 656,\n",
       " 'theory': 657,\n",
       " 'hat': 658,\n",
       " 'approach': 659,\n",
       " 'appreciate': 660,\n",
       " 'require': 661,\n",
       " 'sit': 662,\n",
       " 'somewhat': 663,\n",
       " 'entertain': 664,\n",
       " 'source': 665,\n",
       " 'understanding': 666,\n",
       " 'actual': 667,\n",
       " 'theme': 668,\n",
       " 'soon': 669,\n",
       " 'excite': 670,\n",
       " 'discover': 671,\n",
       " 'mistake': 672,\n",
       " 'watch': 673,\n",
       " 'informative': 674,\n",
       " 'area': 675,\n",
       " 'term': 676,\n",
       " 'beyond': 677,\n",
       " 'saw': 678,\n",
       " 'choice': 679,\n",
       " 'build': 680,\n",
       " 'explanation': 681,\n",
       " 'stupid': 682,\n",
       " 'result': 683,\n",
       " 'available': 684,\n",
       " 'aspect': 685,\n",
       " 'except': 686,\n",
       " 'huge': 687,\n",
       " 'amaze': 688,\n",
       " 'system': 689,\n",
       " 'behind': 690,\n",
       " 'dr': 691,\n",
       " 'dialogue': 692,\n",
       " 'upon': 693,\n",
       " 'technique': 694,\n",
       " 'process': 695,\n",
       " 'alone': 696,\n",
       " 'moment': 697,\n",
       " 'fight': 698,\n",
       " 'cause': 699,\n",
       " 'possible': 700,\n",
       " '100': 701,\n",
       " 'whether': 702,\n",
       " 'murder': 703,\n",
       " 'journey': 704,\n",
       " 'exactly': 705,\n",
       " 'various': 706,\n",
       " 'disappointing': 707,\n",
       " 'thank': 708,\n",
       " 'themselves': 709,\n",
       " 'lesson': 710,\n",
       " 'common': 711,\n",
       " 'photo': 712,\n",
       " 'obviously': 713,\n",
       " 'send': 714,\n",
       " 'beginner': 715,\n",
       " 'admit': 716,\n",
       " 'period': 717,\n",
       " 'evil': 718,\n",
       " 'church': 719,\n",
       " 'imagine': 720,\n",
       " 'compare': 721,\n",
       " 'rich': 722,\n",
       " 'doubt': 723,\n",
       " 'storyline': 724,\n",
       " 'background': 725,\n",
       " 'suspense': 726,\n",
       " 'self': 727,\n",
       " 'claim': 728,\n",
       " 'step': 729,\n",
       " 'none': 730,\n",
       " 'nature': 731,\n",
       " 'mostly': 732,\n",
       " 'is': 733,\n",
       " 'music': 734,\n",
       " 'manage': 735,\n",
       " 'predictable': 736,\n",
       " 'detailed': 737,\n",
       " 'volume': 738,\n",
       " 'clancy': 739,\n",
       " 'otherwise': 740,\n",
       " 'particular': 741,\n",
       " 'obvious': 742,\n",
       " 'deserve': 743,\n",
       " 'political': 744,\n",
       " 'america': 745,\n",
       " 'town': 746,\n",
       " 'thoroughly': 747,\n",
       " 'memory': 748,\n",
       " 'certain': 749,\n",
       " 'brother': 750,\n",
       " 'amount': 751,\n",
       " 'condition': 752,\n",
       " 'comment': 753,\n",
       " 'sister': 754,\n",
       " 'reality': 755,\n",
       " 'fantastic': 756,\n",
       " 'project': 757,\n",
       " 'editor': 758,\n",
       " 'awful': 759,\n",
       " 'youve': 760,\n",
       " 'literary': 761,\n",
       " 'battle': 762,\n",
       " 'support': 763,\n",
       " 'capture': 764,\n",
       " 'basically': 765,\n",
       " 'similar': 766,\n",
       " 'bear': 767,\n",
       " 'minute': 768,\n",
       " 'prose': 769,\n",
       " 'lord': 770,\n",
       " 'dream': 771,\n",
       " 'voice': 772,\n",
       " 'special': 773,\n",
       " 'sleep': 774,\n",
       " 'practical': 775,\n",
       " 'entertaining': 776,\n",
       " 'annoy': 777,\n",
       " 'herself': 778,\n",
       " 'resource': 779,\n",
       " 'negative': 780,\n",
       " 'cry': 781,\n",
       " 'meaning': 782,\n",
       " 'oh': 783,\n",
       " '20': 784,\n",
       " 'particularly': 785,\n",
       " 'catch': 786,\n",
       " 'nor': 787,\n",
       " 'exam': 788,\n",
       " 'inspire': 789,\n",
       " 'info': 790,\n",
       " 'faith': 791,\n",
       " 'plain': 792,\n",
       " 'nearly': 793,\n",
       " 'trip': 794,\n",
       " 'recently': 795,\n",
       " 'prove': 796,\n",
       " 'market': 797,\n",
       " 'weak': 798,\n",
       " 'philosophy': 799,\n",
       " 'robert': 800,\n",
       " 'emotion': 801,\n",
       " 'tom': 802,\n",
       " 'act': 803,\n",
       " 'seriously': 804,\n",
       " 'low': 805,\n",
       " 'animal': 806,\n",
       " 'remind': 807,\n",
       " 'introduce': 808,\n",
       " 'discuss': 809,\n",
       " 'magic': 810,\n",
       " 'hundred': 811,\n",
       " 'unique': 812,\n",
       " 'rating': 813,\n",
       " 'earth': 814,\n",
       " 'computer': 815,\n",
       " 'walk': 816,\n",
       " 'mark': 817,\n",
       " 'city': 818,\n",
       " 'challenge': 819,\n",
       " 'regard': 820,\n",
       " 'positive': 821,\n",
       " 'christmas': 822,\n",
       " 'avoid': 823,\n",
       " 'shes': 824,\n",
       " 'space': 825,\n",
       " 'due': 826,\n",
       " 'club': 827,\n",
       " 'summer': 828,\n",
       " 'store': 829,\n",
       " 'religion': 830,\n",
       " 'mom': 831,\n",
       " 'chance': 832,\n",
       " 'conclusion': 833,\n",
       " '12': 834,\n",
       " 'genre': 835,\n",
       " 'exciting': 836,\n",
       " 'inside': 837,\n",
       " 'heroine': 838,\n",
       " 'web': 839,\n",
       " 'serve': 840,\n",
       " 'drag': 841,\n",
       " 'treat': 842,\n",
       " 'textbook': 843,\n",
       " 'paperback': 844,\n",
       " 'cut': 845,\n",
       " 'addition': 846,\n",
       " 'sequel': 847,\n",
       " 'alot': 848,\n",
       " '6': 849,\n",
       " 'trouble': 850,\n",
       " 'technical': 851,\n",
       " 'repeat': 852,\n",
       " 'whats': 853,\n",
       " 'local': 854,\n",
       " 'potter': 855,\n",
       " 'pull': 856,\n",
       " 'image': 857,\n",
       " 'win': 858,\n",
       " 'fit': 859,\n",
       " 'personally': 860,\n",
       " 'arent': 861,\n",
       " 'awesome': 862,\n",
       " 'size': 863,\n",
       " 'engage': 864,\n",
       " 'complex': 865,\n",
       " 'company': 866,\n",
       " 'visit': 867,\n",
       " 'secret': 868,\n",
       " 'body': 869,\n",
       " 'current': 870,\n",
       " 'anyway': 871,\n",
       " 'narrative': 872,\n",
       " 'tip': 873,\n",
       " 'jane': 874,\n",
       " 'drive': 875,\n",
       " 'stephen': 876,\n",
       " 'skill': 877,\n",
       " 'okay': 878,\n",
       " 'hit': 879,\n",
       " 'remain': 880,\n",
       " 'letter': 881,\n",
       " 'red': 882,\n",
       " 'field': 883,\n",
       " 'lie': 884,\n",
       " 'james': 885,\n",
       " 'method': 886,\n",
       " 'brilliant': 887,\n",
       " 'pace': 888,\n",
       " 'female': 889,\n",
       " 'rate': 890,\n",
       " 'master': 891,\n",
       " 'living': 892,\n",
       " 'jack': 893,\n",
       " 'useless': 894,\n",
       " 'exercise': 895,\n",
       " 'concern': 896,\n",
       " 'ability': 897,\n",
       " 'paragraph': 898,\n",
       " 'jesus': 899,\n",
       " '50': 900,\n",
       " 'total': 901,\n",
       " 'ten': 902,\n",
       " 'realistic': 903,\n",
       " 'flow': 904,\n",
       " 'tool': 905,\n",
       " 'having': 906,\n",
       " 'refer': 907,\n",
       " 'accurate': 908,\n",
       " 'song': 909,\n",
       " 'format': 910,\n",
       " 'quote': 911,\n",
       " 'respect': 912,\n",
       " 'release': 913,\n",
       " 'purpose': 914,\n",
       " 'code': 915,\n",
       " 'hardly': 916,\n",
       " 'familiar': 917,\n",
       " 'dead': 918,\n",
       " 'translation': 919,\n",
       " 'powerful': 920,\n",
       " 'standard': 921,\n",
       " 'individual': 922,\n",
       " 'correct': 923,\n",
       " 'reach': 924,\n",
       " 'incredibly': 925,\n",
       " 'imagination': 926,\n",
       " 'feature': 927,\n",
       " 'dry': 928,\n",
       " 'manner': 929,\n",
       " 'tedious': 930,\n",
       " 'jump': 931,\n",
       " 'reveal': 932,\n",
       " 'appeal': 933,\n",
       " 'honestly': 934,\n",
       " 'fire': 935,\n",
       " 'crime': 936,\n",
       " 'trilogy': 937,\n",
       " 'strange': 938,\n",
       " 'control': 939,\n",
       " 'horror': 940,\n",
       " 'despite': 941,\n",
       " 'hes': 942,\n",
       " 'towards': 943,\n",
       " 'social': 944,\n",
       " 'effect': 945,\n",
       " 'shallow': 946,\n",
       " 'fell': 947,\n",
       " 'promise': 948,\n",
       " 'professional': 949,\n",
       " 'notice': 950,\n",
       " 'among': 951,\n",
       " 'plus': 952,\n",
       " 'discussion': 953,\n",
       " 'key': 954,\n",
       " 'david': 955,\n",
       " 'tear': 956,\n",
       " 'room': 957,\n",
       " '30': 958,\n",
       " 'fear': 959,\n",
       " 'table': 960,\n",
       " 'final': 961,\n",
       " 'incredible': 962,\n",
       " 'exist': 963,\n",
       " 'edit': 964,\n",
       " 'honest': 965,\n",
       " 'specific': 966,\n",
       " 'flat': 967,\n",
       " 'fairly': 968,\n",
       " 'decent': 969,\n",
       " 'above': 970,\n",
       " 'poem': 971,\n",
       " 'fascinating': 972,\n",
       " 'instruction': 973,\n",
       " 'soul': 974,\n",
       " 'pain': 975,\n",
       " 'creative': 976,\n",
       " 'prepare': 977,\n",
       " 'member': 978,\n",
       " 'intrigue': 979,\n",
       " 'usual': 980,\n",
       " 'thanks': 981,\n",
       " 'silly': 982,\n",
       " 'religious': 983,\n",
       " 'public': 984,\n",
       " 'eat': 985,\n",
       " 'cost': 986,\n",
       " 'childrens': 987,\n",
       " 'lay': 988,\n",
       " 'hell': 989,\n",
       " 'generation': 990,\n",
       " 'average': 991,\n",
       " 'theyre': 992,\n",
       " 'fascinate': 993,\n",
       " 'difference': 994,\n",
       " 'carry': 995,\n",
       " 'anne': 996,\n",
       " '15': 997,\n",
       " 'suffer': 998,\n",
       " 'phrase': 999,\n",
       " ...}"
      ]
     },
     "execution_count": 31,
     "metadata": {},
     "output_type": "execute_result"
    }
   ],
   "source": [
    "\"\"\"\n",
    "As we can see, \"the\" gets represented as \"2\". Why not 0, given that \"book\" was the first\n",
    "word in the vocabulary? That's because index 0 is reserved for padding and index 1 is\n",
    "reserved for \"out of vocabulary\" tokens.\n",
    "Here's a dict mapping words to their indices:\n",
    "\"\"\"\n",
    "\n",
    "voc = vectorizer.get_vocabulary()\n",
    "word_index = dict(zip(voc, range(len(voc))))\n",
    "\n",
    "word_index"
   ]
  },
  {
   "cell_type": "code",
   "execution_count": 32,
   "metadata": {
    "colab": {
     "base_uri": "https://localhost:8080/"
    },
    "executionInfo": {
     "elapsed": 5,
     "status": "ok",
     "timestamp": 1650813178376,
     "user": {
      "displayName": "Adirtha Borgohain",
      "userId": "15863713878084439858"
     },
     "user_tz": -330
    },
    "id": "1M29SIbpduvW",
    "outputId": "c785a843-011b-45a3-93eb-d91c80d71960"
   },
   "outputs": [
    {
     "data": {
      "text/plain": [
       "[5, 947, 12, 68, 20, 2, 8, 5, 16]"
      ]
     },
     "execution_count": 32,
     "metadata": {},
     "output_type": "execute_result"
    }
   ],
   "source": [
    "\"\"\"\n",
    "We can see, we obtain the same encoding as above for our test sentence:\n",
    "\"\"\"\n",
    "\n",
    "test = [\"i\", \"fell\", \"in\", \"love\", \"with\", \"the\", \"book\", \"i\", \"read\"]\n",
    "[word_index[w] for w in test]"
   ]
  },
  {
   "cell_type": "code",
   "execution_count": 33,
   "metadata": {
    "executionInfo": {
     "elapsed": 1972,
     "status": "ok",
     "timestamp": 1650813181962,
     "user": {
      "displayName": "Adirtha Borgohain",
      "userId": "15863713878084439858"
     },
     "user_tz": -330
    },
    "id": "QioxBHd4dwZM"
   },
   "outputs": [],
   "source": [
    "import gensim\n",
    "from gensim.models import Word2Vec\n",
    "\n",
    "skip_w2vModel = gensim.models.Word2Vec.load(\"skipgram-word2vec.model\")\n",
    "cbow_w2vModel = gensim.models.Word2Vec.load(\"cbow-word2vec.model\")"
   ]
  },
  {
   "cell_type": "code",
   "execution_count": 34,
   "metadata": {
    "colab": {
     "base_uri": "https://localhost:8080/"
    },
    "executionInfo": {
     "elapsed": 2524,
     "status": "ok",
     "timestamp": 1650813184481,
     "user": {
      "displayName": "Adirtha Borgohain",
      "userId": "15863713878084439858"
     },
     "user_tz": -330
    },
    "id": "haHaRZSyd1S-",
    "outputId": "4742b599-c073-405b-8a6c-548bdd067db6"
   },
   "outputs": [
    {
     "name": "stdout",
     "output_type": "stream",
     "text": [
      "Found 54048 word vectors.\n"
     ]
    }
   ],
   "source": [
    "# Let's make a dict mapping words (strings) to their NumPy vector representation:\n",
    "embeddings_index = {}\n",
    "for w in cbow_w2vModel.wv.index_to_key:\n",
    "    # TAKE MEAN OF BOTH VECTORS TO HAVE 100 DIMENSIONS OF VECTOR REPRESENTATION\n",
    "    embeddings_index[w] = np.mean([cbow_w2vModel.wv[w], skip_w2vModel.wv[w]], axis=0) \n",
    "\n",
    "print(\"Found %s word vectors.\" % len(embeddings_index))"
   ]
  },
  {
   "cell_type": "code",
   "execution_count": 35,
   "metadata": {
    "colab": {
     "base_uri": "https://localhost:8080/"
    },
    "executionInfo": {
     "elapsed": 417,
     "status": "ok",
     "timestamp": 1650813208179,
     "user": {
      "displayName": "Adirtha Borgohain",
      "userId": "15863713878084439858"
     },
     "user_tz": -330
    },
    "id": "njZ0reeyeU8z",
    "outputId": "0fdff9f0-6e7e-4d72-b8fa-2c8ca44bb2a3"
   },
   "outputs": [
    {
     "name": "stdout",
     "output_type": "stream",
     "text": [
      "Converted 15554 words (4446 misses)\n"
     ]
    }
   ],
   "source": [
    "\"\"\"\n",
    "Now, let's prepare a corresponding embedding matrix that we can use in a Keras\n",
    "`Embedding` layer. It's a simple NumPy matrix where entry at index `i` is the pre-trained\n",
    "vector for the word of index `i` in our `vectorizer`'s vocabulary.\n",
    "\"\"\"\n",
    "\n",
    "num_tokens = len(voc) + 2\n",
    "embedding_dim = 100\n",
    "hits = 0\n",
    "misses = 0\n",
    "\n",
    "# Prepare embedding matrix\n",
    "embedding_matrix = np.zeros((num_tokens, embedding_dim))\n",
    "for word, i in word_index.items():\n",
    "    embedding_vector = embeddings_index.get(word)\n",
    "    if embedding_vector is not None:\n",
    "        # Words not found in embedding index will be all-zeros.\n",
    "        # This includes the representation for \"padding\" and \"OOV\"\n",
    "        embedding_matrix[i] = embedding_vector\n",
    "        hits += 1\n",
    "    else:\n",
    "        misses += 1\n",
    "print(\"Converted %d words (%d misses)\" % (hits, misses))"
   ]
  },
  {
   "cell_type": "code",
   "execution_count": 36,
   "metadata": {
    "executionInfo": {
     "elapsed": 412,
     "status": "ok",
     "timestamp": 1650813213704,
     "user": {
      "displayName": "Adirtha Borgohain",
      "userId": "15863713878084439858"
     },
     "user_tz": -330
    },
    "id": "Otku9VOzru5U"
   },
   "outputs": [],
   "source": [
    "\"\"\"\n",
    "Next, we load the pre-trained word embeddings matrix into an `Embedding` layer.\n",
    "Note that we set `trainable=False` so as to keep the embeddings fixed (we don't want to\n",
    "update them during training).\n",
    "\"\"\"\n",
    "embedding_layer = Embedding(\n",
    "    num_tokens,\n",
    "    embedding_dim,\n",
    "    embeddings_initializer=tf.keras.initializers.Constant(embedding_matrix),\n",
    "    trainable=False,\n",
    ")"
   ]
  },
  {
   "cell_type": "code",
   "execution_count": 37,
   "metadata": {
    "colab": {
     "base_uri": "https://localhost:8080/"
    },
    "executionInfo": {
     "elapsed": 304041,
     "status": "ok",
     "timestamp": 1650813520712,
     "user": {
      "displayName": "Adirtha Borgohain",
      "userId": "15863713878084439858"
     },
     "user_tz": -330
    },
    "id": "R8sZ6zOFjLKG",
    "outputId": "69d16c87-7f73-4a73-86a9-d067fef332ee"
   },
   "outputs": [
    {
     "name": "stderr",
     "output_type": "stream",
     "text": [
      "100%|██████████| 57375/57375 [03:53<00:00, 245.68it/s]\n",
      "100%|██████████| 7500/7500 [00:30<00:00, 248.36it/s]\n",
      "100%|██████████| 10125/10125 [00:40<00:00, 252.88it/s]\n"
     ]
    }
   ],
   "source": [
    "def get_pos_tags(data):\n",
    "    pos_tags = []\n",
    "    for sample in tqdm(data):\n",
    "        word_tokens = nltk.word_tokenize(sample)\n",
    "        tagged = nltk.pos_tag(word_tokens)\n",
    "        pos_tags.append(' '.join([tup[1] for tup in tagged]))\n",
    "    return pos_tags\n",
    "\n",
    "train_pos = get_pos_tags(train_samples)\n",
    "test_pos = get_pos_tags(test_samples)\n",
    "val_pos = get_pos_tags(val_samples)"
   ]
  },
  {
   "cell_type": "code",
   "execution_count": 19,
   "metadata": {
    "executionInfo": {
     "elapsed": 21,
     "status": "ok",
     "timestamp": 1650812787501,
     "user": {
      "displayName": "Adirtha Borgohain",
      "userId": "15863713878084439858"
     },
     "user_tz": -330
    },
    "id": "G-1T89jTjdQT"
   },
   "outputs": [],
   "source": [
    "# print(train_pos[0])\n",
    "\n",
    "# pos_tokenizer = Tokenizer()\n",
    "# pos_tokenizer.fit_on_texts(train_pos)\n",
    "\n",
    "\n",
    "# train_pos_encoded = pos_tokenizer.texts_to_sequences(train_pos)\n",
    "# test_pos_encoded = pos_tokenizer.texts_to_sequences(test_pos)\n",
    "# val_pos_encoded = pos_tokenizer.texts_to_sequences(val_pos)"
   ]
  },
  {
   "cell_type": "code",
   "execution_count": 20,
   "metadata": {
    "executionInfo": {
     "elapsed": 3,
     "status": "ok",
     "timestamp": 1650812787501,
     "user": {
      "displayName": "Adirtha Borgohain",
      "userId": "15863713878084439858"
     },
     "user_tz": -330
    },
    "id": "qWO78v7-j0Vq"
   },
   "outputs": [],
   "source": [
    "# from tensorflow.keras.utils import to_categorical\n",
    "\n",
    "# train_pos_padded = pad_sequences(train_pos_encoded, maxlen=200, padding=\"post\", truncating=\"post\")\n",
    "# test_pos_padded = pad_sequences(test_pos_encoded, maxlen=200, padding=\"post\", truncating=\"post\")\n",
    "# val_pos_padded = pad_sequences(val_pos_encoded, maxlen=200, padding=\"post\", truncating=\"post\")\n",
    "\n",
    "# # # use Keras' to_categorical function to one-hot encode Y\n",
    "# # train_pos = to_categorical(train_pos_padded)\n",
    "# # test_pos = to_categorical(test_pos_padded)\n",
    "# # val_pos = to_categorical(val_pos_padded)"
   ]
  },
  {
   "cell_type": "code",
   "execution_count": 38,
   "metadata": {
    "executionInfo": {
     "elapsed": 6380,
     "status": "ok",
     "timestamp": 1650813529286,
     "user": {
      "displayName": "Adirtha Borgohain",
      "userId": "15863713878084439858"
     },
     "user_tz": -330
    },
    "id": "FfPnQsD0qILQ"
   },
   "outputs": [],
   "source": [
    "pos_vectorizer = TextVectorization(max_tokens=20000, output_sequence_length=MAX_LEN)\n",
    "pos_ds = tf.data.Dataset.from_tensor_slices(train_pos).batch(128)\n",
    "\n",
    "pos_vectorizer.adapt(train_pos)"
   ]
  },
  {
   "cell_type": "code",
   "execution_count": 39,
   "metadata": {
    "executionInfo": {
     "elapsed": 5,
     "status": "ok",
     "timestamp": 1650813529286,
     "user": {
      "displayName": "Adirtha Borgohain",
      "userId": "15863713878084439858"
     },
     "user_tz": -330
    },
    "id": "Avj2VJIPrAAx"
   },
   "outputs": [],
   "source": [
    "voc_pos = pos_vectorizer.get_vocabulary()\n",
    "\n",
    "num_tokens_pos = len(voc_pos) + 2\n",
    "embedding_dim_pos = 60"
   ]
  },
  {
   "cell_type": "code",
   "execution_count": 40,
   "metadata": {
    "executionInfo": {
     "elapsed": 493,
     "status": "ok",
     "timestamp": 1650813540389,
     "user": {
      "displayName": "Adirtha Borgohain",
      "userId": "15863713878084439858"
     },
     "user_tz": -330
    },
    "id": "GpumYf9epJtL"
   },
   "outputs": [],
   "source": [
    "\"\"\"\n",
    "Next, we load the pre-trained word embeddings matrix into an `Embedding` layer.\n",
    "Note that we set `trainable=True` so as to train the embeddings\n",
    "\"\"\"\n",
    "embedding_layer_pos = Embedding(\n",
    "    num_tokens_pos,\n",
    "    embedding_dim_pos,\n",
    "    trainable=True,\n",
    ")"
   ]
  },
  {
   "cell_type": "code",
   "execution_count": 41,
   "metadata": {
    "colab": {
     "base_uri": "https://localhost:8080/"
    },
    "executionInfo": {
     "elapsed": 425,
     "status": "ok",
     "timestamp": 1650813541406,
     "user": {
      "displayName": "Adirtha Borgohain",
      "userId": "15863713878084439858"
     },
     "user_tz": -330
    },
    "id": "cg4UdMqzeX9z",
    "outputId": "bb133a41-9730-4b39-8900-32bd88beb265"
   },
   "outputs": [
    {
     "name": "stdout",
     "output_type": "stream",
     "text": [
      "Model: \"model_1\"\n",
      "__________________________________________________________________________________________________\n",
      " Layer (type)                   Output Shape         Param #     Connected to                     \n",
      "==================================================================================================\n",
      " input_3 (InputLayer)           [(None, 250)]        0           []                               \n",
      "                                                                                                  \n",
      " input_4 (InputLayer)           [(None, 250)]        0           []                               \n",
      "                                                                                                  \n",
      " embedding_2 (Embedding)        (None, 250, 100)     2000200     ['input_3[0][0]']                \n",
      "                                                                                                  \n",
      " embedding_3 (Embedding)        (None, 250, 60)      2220        ['input_4[0][0]']                \n",
      "                                                                                                  \n",
      " batch_normalization_2 (BatchNo  (None, 250, 100)    400         ['embedding_2[0][0]']            \n",
      " rmalization)                                                                                     \n",
      "                                                                                                  \n",
      " batch_normalization_3 (BatchNo  (None, 250, 60)     240         ['embedding_3[0][0]']            \n",
      " rmalization)                                                                                     \n",
      "                                                                                                  \n",
      " conv1d_2 (Conv1D)              (None, 250, 128)     51328       ['batch_normalization_2[0][0]']  \n",
      "                                                                                                  \n",
      " conv1d_3 (Conv1D)              (None, 250, 64)      15424       ['batch_normalization_3[0][0]']  \n",
      "                                                                                                  \n",
      " concatenate_1 (Concatenate)    (None, 250, 192)     0           ['conv1d_2[0][0]',               \n",
      "                                                                  'conv1d_3[0][0]']               \n",
      "                                                                                                  \n",
      " max_pooling1d_1 (MaxPooling1D)  (None, 125, 192)    0           ['concatenate_1[0][0]']          \n",
      "                                                                                                  \n",
      " dropout_2 (Dropout)            (None, 125, 192)     0           ['max_pooling1d_1[0][0]']        \n",
      "                                                                                                  \n",
      " lstm_1 (LSTM)                  (None, 150)          205800      ['dropout_2[0][0]']              \n",
      "                                                                                                  \n",
      " dense_2 (Dense)                (None, 50)           7550        ['lstm_1[0][0]']                 \n",
      "                                                                                                  \n",
      " dropout_3 (Dropout)            (None, 50)           0           ['dense_2[0][0]']                \n",
      "                                                                                                  \n",
      " dense_3 (Dense)                (None, 1)            51          ['dropout_3[0][0]']              \n",
      "                                                                                                  \n",
      "==================================================================================================\n",
      "Total params: 2,283,213\n",
      "Trainable params: 282,693\n",
      "Non-trainable params: 2,000,520\n",
      "__________________________________________________________________________________________________\n"
     ]
    }
   ],
   "source": [
    "tokenized_sequence_input = Input(shape=(MAX_LEN, ), dtype=\"int64\")\n",
    "embedded_sequences = embedding_layer(tokenized_sequence_input)\n",
    "embedded_sequences = BatchNormalization()(embedded_sequences)\n",
    "conv_seq = Conv1D(filters=128, kernel_size=4, activation='relu', padding='causal')(embedded_sequences)\n",
    "\n",
    "pos_input = Input(shape=(MAX_LEN, ), dtype=\"int64\")\n",
    "embedded_pos = embedding_layer_pos(pos_input)\n",
    "embedded_pos = BatchNormalization()(embedded_pos)\n",
    "conv_pos = Conv1D(filters=64, kernel_size=4, activation='relu', padding='causal')(embedded_pos)\n",
    "\n",
    "x = Concatenate()([conv_seq, conv_pos])\n",
    "x = MaxPooling1D(pool_size=2)(x)\n",
    "x = Dropout(0.4)(x)\n",
    "x = LSTM(units=150)(x)\n",
    "x = Dense(50)(x)\n",
    "x = Dropout(0.3)(x)\n",
    "out = Dense(1, activation='sigmoid')(x)\n",
    "model = Model(inputs=[tokenized_sequence_input, pos_input], outputs=out) \n",
    "model.compile(loss=\"binary_crossentropy\", optimizer=\"adam\", metrics=['accuracy'])\n",
    "model.summary()"
   ]
  },
  {
   "cell_type": "code",
   "execution_count": 42,
   "metadata": {
    "executionInfo": {
     "elapsed": 3168,
     "status": "ok",
     "timestamp": 1650813544571,
     "user": {
      "displayName": "Adirtha Borgohain",
      "userId": "15863713878084439858"
     },
     "user_tz": -330
    },
    "id": "FG6BFEJDeZ_4"
   },
   "outputs": [],
   "source": [
    "\"\"\"\n",
    "## Train the model\n",
    "First, convert our list-of-strings data to NumPy arrays of integer indices. The arrays\n",
    "are right-padded.\n",
    "\"\"\"\n",
    "\n",
    "x_train = vectorizer(np.array([[s] for s in train_samples])).numpy()\n",
    "x_test = vectorizer(np.array([[s] for s in test_samples])).numpy()\n",
    "x_val = vectorizer(np.array([[s] for s in val_samples])).numpy()\n",
    "\n",
    "x_train_pos = pos_vectorizer(np.array([[s] for s in train_pos])).numpy()\n",
    "x_test_pos = pos_vectorizer(np.array([[s] for s in test_pos])).numpy()\n",
    "x_val_pos = pos_vectorizer(np.array([[s] for s in val_pos])).numpy()\n",
    "\n",
    "y_train = np.array(train_labels)\n",
    "y_test = np.array(test_labels)\n",
    "y_val = np.array(val_labels)"
   ]
  },
  {
   "cell_type": "code",
   "execution_count": 43,
   "metadata": {
    "colab": {
     "base_uri": "https://localhost:8080/"
    },
    "executionInfo": {
     "elapsed": 685061,
     "status": "ok",
     "timestamp": 1650814229626,
     "user": {
      "displayName": "Adirtha Borgohain",
      "userId": "15863713878084439858"
     },
     "user_tz": -330
    },
    "id": "NkN4NX5UecB8",
    "outputId": "d52f7475-8cf8-4f16-8534-8becd9015030"
   },
   "outputs": [
    {
     "name": "stdout",
     "output_type": "stream",
     "text": [
      "Epoch 1/20\n",
      "449/449 [==============================] - 36s 72ms/step - loss: 0.6943 - accuracy: 0.5032 - val_loss: 0.6898 - val_accuracy: 0.5489\n",
      "Epoch 2/20\n",
      "449/449 [==============================] - 31s 69ms/step - loss: 0.6928 - accuracy: 0.5091 - val_loss: 0.6871 - val_accuracy: 0.4973\n",
      "Epoch 3/20\n",
      "449/449 [==============================] - 31s 70ms/step - loss: 0.4870 - accuracy: 0.7546 - val_loss: 0.4428 - val_accuracy: 0.7950\n",
      "Epoch 4/20\n",
      "449/449 [==============================] - 31s 70ms/step - loss: 0.3158 - accuracy: 0.8695 - val_loss: 0.2903 - val_accuracy: 0.8837\n",
      "Epoch 5/20\n",
      "449/449 [==============================] - 31s 70ms/step - loss: 0.2719 - accuracy: 0.8886 - val_loss: 0.3069 - val_accuracy: 0.8698\n",
      "Epoch 6/20\n",
      "449/449 [==============================] - 31s 70ms/step - loss: 0.2514 - accuracy: 0.8991 - val_loss: 0.2636 - val_accuracy: 0.8926\n",
      "Epoch 7/20\n",
      "449/449 [==============================] - 31s 70ms/step - loss: 0.2342 - accuracy: 0.9068 - val_loss: 0.2688 - val_accuracy: 0.8957\n",
      "Epoch 8/20\n",
      "449/449 [==============================] - 31s 70ms/step - loss: 0.2219 - accuracy: 0.9110 - val_loss: 0.2487 - val_accuracy: 0.8997\n",
      "Epoch 9/20\n",
      "449/449 [==============================] - 31s 70ms/step - loss: 0.2089 - accuracy: 0.9184 - val_loss: 0.2486 - val_accuracy: 0.8997\n",
      "Epoch 10/20\n",
      "449/449 [==============================] - 31s 70ms/step - loss: 0.1983 - accuracy: 0.9226 - val_loss: 0.2481 - val_accuracy: 0.9055\n",
      "Epoch 11/20\n",
      "449/449 [==============================] - 31s 69ms/step - loss: 0.1886 - accuracy: 0.9267 - val_loss: 0.2513 - val_accuracy: 0.9016\n",
      "Epoch 12/20\n",
      "449/449 [==============================] - 31s 69ms/step - loss: 0.1800 - accuracy: 0.9299 - val_loss: 0.2457 - val_accuracy: 0.9044\n",
      "Epoch 13/20\n",
      "449/449 [==============================] - 31s 70ms/step - loss: 0.1724 - accuracy: 0.9335 - val_loss: 0.2413 - val_accuracy: 0.9067\n",
      "Epoch 14/20\n",
      "449/449 [==============================] - 31s 70ms/step - loss: 0.1646 - accuracy: 0.9374 - val_loss: 0.2474 - val_accuracy: 0.9073\n",
      "Epoch 15/20\n",
      "449/449 [==============================] - 31s 70ms/step - loss: 0.1598 - accuracy: 0.9394 - val_loss: 0.2567 - val_accuracy: 0.9059\n",
      "Epoch 16/20\n",
      "449/449 [==============================] - 31s 69ms/step - loss: 0.1517 - accuracy: 0.9423 - val_loss: 0.2583 - val_accuracy: 0.9073\n",
      "Epoch 17/20\n",
      "449/449 [==============================] - 31s 70ms/step - loss: 0.1700 - accuracy: 0.9363 - val_loss: 0.2680 - val_accuracy: 0.8952\n",
      "Epoch 18/20\n",
      "449/449 [==============================] - 31s 70ms/step - loss: 0.1673 - accuracy: 0.9357 - val_loss: 0.2730 - val_accuracy: 0.8988\n",
      "Epoch 19/20\n",
      "449/449 [==============================] - 31s 70ms/step - loss: 0.1435 - accuracy: 0.9464 - val_loss: 0.2663 - val_accuracy: 0.9052\n",
      "Epoch 20/20\n",
      "449/449 [==============================] - 31s 70ms/step - loss: 0.1403 - accuracy: 0.9461 - val_loss: 0.2569 - val_accuracy: 0.9046\n"
     ]
    },
    {
     "data": {
      "text/plain": [
       "<keras.callbacks.History at 0x7f1999b08950>"
      ]
     },
     "execution_count": 43,
     "metadata": {},
     "output_type": "execute_result"
    }
   ],
   "source": [
    "model.fit([x_train, x_train_pos], y_train, batch_size=128, epochs=20, validation_data=([x_val, x_val_pos], y_val))"
   ]
  },
  {
   "cell_type": "code",
   "execution_count": 44,
   "metadata": {
    "colab": {
     "base_uri": "https://localhost:8080/"
    },
    "executionInfo": {
     "elapsed": 6617,
     "status": "ok",
     "timestamp": 1650814274159,
     "user": {
      "displayName": "Adirtha Borgohain",
      "userId": "15863713878084439858"
     },
     "user_tz": -330
    },
    "id": "ZFwXOtmiedRy",
    "outputId": "eeb83d8d-dc5e-4fa9-8ea2-022ea18b95be"
   },
   "outputs": [
    {
     "name": "stdout",
     "output_type": "stream",
     "text": [
      "235/235 - 3s - loss: 0.2277 - accuracy: 0.9155 - 3s/epoch - 13ms/step\n"
     ]
    }
   ],
   "source": [
    "#analyze the results\n",
    "score, acc = model.evaluate([x_test, x_test_pos], y_test, verbose = 2, batch_size=32)\n",
    "y_pred = model.predict([x_test, x_test_pos])"
   ]
  },
  {
   "cell_type": "code",
   "execution_count": 45,
   "metadata": {
    "executionInfo": {
     "elapsed": 434,
     "status": "ok",
     "timestamp": 1650814347107,
     "user": {
      "displayName": "Adirtha Borgohain",
      "userId": "15863713878084439858"
     },
     "user_tz": -330
    },
    "id": "Vs6pCX5agcLm"
   },
   "outputs": [],
   "source": [
    "#ROC AUC curve\n",
    "rocAuc = roc_auc_score(y_test, y_pred)"
   ]
  },
  {
   "cell_type": "code",
   "execution_count": 46,
   "metadata": {
    "executionInfo": {
     "elapsed": 3,
     "status": "ok",
     "timestamp": 1650814347489,
     "user": {
      "displayName": "Adirtha Borgohain",
      "userId": "15863713878084439858"
     },
     "user_tz": -330
    },
    "id": "Klx73E-xgrV8"
   },
   "outputs": [],
   "source": [
    "falsePositiveRate, truePositiveRate, _ = roc_curve(y_test, y_pred)"
   ]
  },
  {
   "cell_type": "code",
   "execution_count": 47,
   "metadata": {
    "colab": {
     "base_uri": "https://localhost:8080/",
     "height": 52
    },
    "executionInfo": {
     "elapsed": 20,
     "status": "ok",
     "timestamp": 1650814348047,
     "user": {
      "displayName": "Adirtha Borgohain",
      "userId": "15863713878084439858"
     },
     "user_tz": -330
    },
    "id": "DjCjQQRcgv3z",
    "outputId": "e0420184-c973-4455-8d7d-9f7ab4857829"
   },
   "outputs": [
    {
     "data": {
      "text/plain": [
       "<Figure size 432x288 with 0 Axes>"
      ]
     },
     "execution_count": 47,
     "metadata": {},
     "output_type": "execute_result"
    },
    {
     "data": {
      "text/plain": [
       "<Figure size 432x288 with 0 Axes>"
      ]
     },
     "metadata": {},
     "output_type": "display_data"
    }
   ],
   "source": [
    "plt.figure()"
   ]
  },
  {
   "cell_type": "code",
   "execution_count": 48,
   "metadata": {
    "colab": {
     "base_uri": "https://localhost:8080/",
     "height": 295
    },
    "executionInfo": {
     "elapsed": 1032,
     "status": "ok",
     "timestamp": 1650814360945,
     "user": {
      "displayName": "Adirtha Borgohain",
      "userId": "15863713878084439858"
     },
     "user_tz": -330
    },
    "id": "iREmiblWgxTl",
    "outputId": "2bb96b45-6994-4c50-f293-eaeaa721e55a"
   },
   "outputs": [
    {
     "data": {
      "image/png": "[encoded data removed]",
      "text/plain": [
       "<Figure size 432x288 with 1 Axes>"
      ]
     },
     "metadata": {
      "needs_background": "light"
     },
     "output_type": "display_data"
    }
   ],
   "source": [
    "plt.plot(falsePositiveRate, truePositiveRate, color='green',\n",
    "         lw=3, label='ROC curve (area = %0.2f)' % rocAuc)\n",
    "plt.plot([0, 1], [0, 1], color='navy', lw=3, linestyle='--')\n",
    "plt.xlim([0.0, 1.0])\n",
    "plt.ylim([0.0, 1.05])\n",
    "plt.xlabel('False Positive Rate')\n",
    "plt.ylabel('True Positive Rate')\n",
    "plt.title('Receiver Operating Characteristic of Sentiiment Analysis Model')\n",
    "plt.legend(loc=\"lower right\")\n",
    "plt.show()"
   ]
  },
  {
   "cell_type": "code",
   "execution_count": 49,
   "metadata": {
    "executionInfo": {
     "elapsed": 6,
     "status": "ok",
     "timestamp": 1650814360946,
     "user": {
      "displayName": "Adirtha Borgohain",
      "userId": "15863713878084439858"
     },
     "user_tz": -330
    },
    "id": "XUxcgPlGgzE9"
   },
   "outputs": [],
   "source": [
    "#Other accuracy metrices\n",
    "y_pred = (y_pred > 0.5)"
   ]
  },
  {
   "cell_type": "code",
   "execution_count": 50,
   "metadata": {
    "colab": {
     "base_uri": "https://localhost:8080/"
    },
    "executionInfo": {
     "elapsed": 6,
     "status": "ok",
     "timestamp": 1650814361711,
     "user": {
      "displayName": "Adirtha Borgohain",
      "userId": "15863713878084439858"
     },
     "user_tz": -330
    },
    "id": "bZYWiXLEg2jV",
    "outputId": "0cf7ffb0-cd32-4eab-d392-d8d2cac3458b"
   },
   "outputs": [
    {
     "name": "stdout",
     "output_type": "stream",
     "text": [
      "[[3389  324]\n",
      " [ 310 3477]]\n"
     ]
    }
   ],
   "source": [
    "#confusion metrix\n",
    "cm = confusion_matrix(y_test, y_pred)\n",
    "print(cm)"
   ]
  },
  {
   "cell_type": "code",
   "execution_count": 51,
   "metadata": {
    "colab": {
     "base_uri": "https://localhost:8080/"
    },
    "executionInfo": {
     "elapsed": 3,
     "status": "ok",
     "timestamp": 1650814361711,
     "user": {
      "displayName": "Adirtha Borgohain",
      "userId": "15863713878084439858"
     },
     "user_tz": -330
    },
    "id": "vnFYrS0vg4Vy",
    "outputId": "c41f6c8c-c995-49d9-d7e4-aad514f39209"
   },
   "outputs": [
    {
     "name": "stdout",
     "output_type": "stream",
     "text": [
      "              precision    recall  f1-score   support\n",
      "\n",
      "    Positive       0.92      0.91      0.91      3713\n",
      "    Negative       0.91      0.92      0.92      3787\n",
      "\n",
      "    accuracy                           0.92      7500\n",
      "   macro avg       0.92      0.92      0.92      7500\n",
      "weighted avg       0.92      0.92      0.92      7500\n",
      "\n"
     ]
    }
   ],
   "source": [
    "#F1 Score, Recall and Precision\n",
    "print(classification_report(y_test, y_pred, target_names=['Positive', 'Negative']))"
   ]
  },
  {
   "cell_type": "code",
   "execution_count": null,
   "metadata": {
    "id": "54w2Xs-ThBUc"
   },
   "outputs": [],
   "source": []
  }
 ],
 "metadata": {
  "accelerator": "GPU",
  "colab": {
   "authorship_tag": "ABX9TyOzXgQCTD2ZWOty+xcFWcPU",
   "collapsed_sections": [],
   "name": "w2v-pos-cnn-lstm_250.ipynb",
   "provenance": [
    {
     "file_id": "1DBQbzID95BkYwahOnDWlZS9g_brqbpAR",
     "timestamp": 1650812344476
    }
   ]
  },
  "kernelspec": {
   "display_name": "Python 3 (ipykernel)",
   "language": "python",
   "name": "python3"
  },
  "language_info": {
   "codemirror_mode": {
    "name": "ipython",
    "version": 3
   },
   "file_extension": ".py",
   "mimetype": "text/x-python",
   "name": "python",
   "nbconvert_exporter": "python",
   "pygments_lexer": "ipython3",
   "version": "3.9.7"
  }
 },
 "nbformat": 4,
 "nbformat_minor": 1
}
